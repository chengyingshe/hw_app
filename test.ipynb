{
 "cells": [
  {
   "cell_type": "code",
   "execution_count": 1,
   "metadata": {},
   "outputs": [
    {
     "data": {
      "text/plain": [
       "['12', '123', '123']"
      ]
     },
     "execution_count": 1,
     "metadata": {},
     "output_type": "execute_result"
    }
   ],
   "source": [
    "'12 123 123'.split()"
   ]
  },
  {
   "cell_type": "code",
   "execution_count": 2,
   "metadata": {},
   "outputs": [
    {
     "data": {
      "text/plain": [
       "['123123312']"
      ]
     },
     "execution_count": 2,
     "metadata": {},
     "output_type": "execute_result"
    }
   ],
   "source": [
    "'123123312'.split()"
   ]
  },
  {
   "cell_type": "code",
   "execution_count": 18,
   "metadata": {},
   "outputs": [],
   "source": [
    "import numpy as np\n",
    "\n",
    "# 定义迷宫地图\n",
    "maze = np.array([\n",
    "    [0, 0, 0, 1, 1],\n",
    "    [0, 0, 0, 0, 1],\n",
    "    [1, 0, 1, 0, 1],\n",
    "    [1, 0, 0, 0, 0],\n",
    "    [1, 1, 1, 1, 0]\n",
    "])\n",
    "\n",
    "# 定义移动方向数组\n",
    "\n",
    "# directions = [(-1, 0), (0, -1), (1, 0), (0, 1)]\n",
    "directions = {\n",
    "    '2': (0, -1), \n",
    "    '1': (-1, 0), \n",
    "    '3': (0, 1),\n",
    "    '0': (1, 0)\n",
    "}"
   ]
  },
  {
   "cell_type": "code",
   "execution_count": 19,
   "metadata": {},
   "outputs": [
    {
     "data": {
      "text/plain": [
       "(True, ['1', '1', '2', '2', '2', '0', '3', '0'])"
      ]
     },
     "execution_count": 19,
     "metadata": {},
     "output_type": "execute_result"
    }
   ],
   "source": [
    "import numpy as np\n",
    "\n",
    "maze = np.array([\n",
    "    [0, 0, 0, 1, 1],\n",
    "    [0, 0, 0, 0, 1],\n",
    "    [1, 0, 1, 1, 1],\n",
    "    [1, 0, 0, 0, 0],\n",
    "    [1, 1, 1, 1, 0]\n",
    "])\n",
    "def find_way(maze, start, end):\n",
    "    \"\"\"迷宫回溯算法（非递归），返回值是完整的指令集合\"\"\"\n",
    "    maze_h, maze_w = maze.shape\n",
    "    \n",
    "    visited = []\n",
    "    orders = []\n",
    "    \n",
    "    stack = [(start, iter(directions.items()))]\n",
    "    \n",
    "    while stack:\n",
    "        current, directions_iter = stack[-1]\n",
    "        try:\n",
    "            direction, (dx, dy) = next(directions_iter)\n",
    "        except StopIteration:\n",
    "            stack.pop()\n",
    "            visited.pop()\n",
    "            orders.pop()\n",
    "            continue\n",
    "        \n",
    "        x, y = current[0] + dx, current[1] + dy\n",
    "        \n",
    "        if (x, y) in end:\n",
    "            orders.append(direction)\n",
    "            return True, orders\n",
    "        \n",
    "        if 0 <= x < maze_w and 0 <= y < maze_h and maze[y, x] == 0 and (x, y) not in visited:\n",
    "            stack.append(((x, y), iter(directions.items())))\n",
    "            visited.append((x, y))\n",
    "            orders.append(direction)\n",
    "    \n",
    "    return False, []\n",
    "\n",
    "start = (3, 3)\n",
    "end = [(3, 1)]\n",
    "\n",
    "find_way(maze, start, end)"
   ]
  },
  {
   "cell_type": "code",
   "execution_count": 65,
   "metadata": {},
   "outputs": [
    {
     "data": {
      "text/plain": [
       "(False, '1', ['1'], [(2, 3)])"
      ]
     },
     "execution_count": 65,
     "metadata": {},
     "output_type": "execute_result"
    }
   ],
   "source": [
    "import numpy as np\n",
    "\n",
    "maze = np.array([\n",
    "    [0, 0, 0, 1, 1],\n",
    "    [0, 0, 0, 0, 1],\n",
    "    [1, 0, 1, 1, 1],\n",
    "    [1, 0, 0, 0, 0],\n",
    "    [1, 1, 1, 1, 0]\n",
    "])\n",
    "\n",
    "def find_way(maze, start,\n",
    "                end: list,  # 终点坐标集合\n",
    "                directions: dict = {  # 机器人移动方向\n",
    "                    '2': (0, -1), \n",
    "                    '1': (-1, 0), \n",
    "                    '3': (0, 1),\n",
    "                    '0': (1, 0)\n",
    "                },\n",
    "                routes: list = [0],  # 机器人可以走的格子\n",
    "                visited: list = [],\n",
    "                orders: list = []\n",
    "            ) -> [bool, str]: # type: ignore\n",
    "    \"\"\"迷宫回溯算法（非递归），返回值是单步指令和状态数组\"\"\"\n",
    "    maze_h, maze_w = maze.shape\n",
    "    for order in orders:\n",
    "        start = (start[0] + directions[order][0], start[1] + directions[order][1])\n",
    "\n",
    "    stack = [(start, iter(directions.items()))]\n",
    "    \n",
    "    while stack:\n",
    "        current, directions_iter = stack[-1]\n",
    "        try:\n",
    "            direction, (dx, dy) = next(directions_iter)\n",
    "        except StopIteration:  # 4个方向都走过了，都不满足\n",
    "            stack.pop()\n",
    "            direction = orders.pop()\n",
    "            anti_dir = {'0': '1', '1': '0', '2': '3', '3': '2'}\n",
    "            direction = anti_dir[direction]\n",
    "            return False, direction, orders, visited\n",
    "\n",
    "        x, y = current[0] + dx, current[1] + dy\n",
    "        \n",
    "        if (x, y) in end:\n",
    "            # orders.append(direction)\n",
    "            return True, direction\n",
    "        \n",
    "        if 0 <= x < maze_w and 0 <= y < maze_h and maze[y, x] in routes and (x, y) not in visited:\n",
    "            stack.append(((x, y), iter(directions.items())))\n",
    "            visited.append((x, y))\n",
    "            orders.append(direction)\n",
    "            return False, direction, orders, visited\n",
    "\n",
    "\n",
    "start = (3, 3)\n",
    "end = [(3, 1)]\n",
    "\n",
    "ending, direction, orders, visited = find_way(maze, start, end)\n",
    "ending, direction, orders, visited"
   ]
  },
  {
   "cell_type": "code",
   "execution_count": 76,
   "metadata": {},
   "outputs": [
    {
     "ename": "ValueError",
     "evalue": "not enough values to unpack (expected 4, got 2)",
     "output_type": "error",
     "traceback": [
      "\u001b[1;31m---------------------------------------------------------------------------\u001b[0m",
      "\u001b[1;31mValueError\u001b[0m                                Traceback (most recent call last)",
      "\u001b[1;32mF:\\Temp\\ipykernel_3840\\4239862562.py\u001b[0m in \u001b[0;36m<module>\u001b[1;34m\u001b[0m\n\u001b[1;32m----> 1\u001b[1;33m \u001b[0mending\u001b[0m\u001b[1;33m,\u001b[0m \u001b[0mdirection\u001b[0m\u001b[1;33m,\u001b[0m \u001b[0morders\u001b[0m\u001b[1;33m,\u001b[0m \u001b[0mvisited\u001b[0m \u001b[1;33m=\u001b[0m \u001b[0mfind_way\u001b[0m\u001b[1;33m(\u001b[0m\u001b[0mmaze\u001b[0m\u001b[1;33m,\u001b[0m \u001b[0mstart\u001b[0m\u001b[1;33m,\u001b[0m \u001b[0mend\u001b[0m\u001b[1;33m,\u001b[0m \u001b[0mvisited\u001b[0m\u001b[1;33m=\u001b[0m\u001b[0mvisited\u001b[0m\u001b[1;33m,\u001b[0m \u001b[0morders\u001b[0m\u001b[1;33m=\u001b[0m\u001b[0morders\u001b[0m\u001b[1;33m)\u001b[0m\u001b[1;33m\u001b[0m\u001b[0m\n\u001b[0m\u001b[0;32m      2\u001b[0m \u001b[0mending\u001b[0m\u001b[1;33m,\u001b[0m \u001b[0mdirection\u001b[0m\u001b[1;33m,\u001b[0m \u001b[0morders\u001b[0m\u001b[1;33m,\u001b[0m \u001b[0mvisited\u001b[0m\u001b[1;33m\u001b[0m\u001b[0m\n",
      "\u001b[1;31mValueError\u001b[0m: not enough values to unpack (expected 4, got 2)"
     ]
    }
   ],
   "source": [
    "ending, direction, orders, visited = find_way(maze, start, end, visited=visited, orders=orders)\n",
    "ending, direction, orders, visited"
   ]
  },
  {
   "cell_type": "code",
   "execution_count": null,
   "metadata": {},
   "outputs": [],
   "source": []
  },
  {
   "cell_type": "code",
   "execution_count": 10,
   "metadata": {},
   "outputs": [
    {
     "data": {
      "text/plain": [
       "(True, ['1', '1', '2', '2', '2', '0', '3', '0'])"
      ]
     },
     "execution_count": 10,
     "metadata": {},
     "output_type": "execute_result"
    }
   ],
   "source": [
    "maze = np.array([\n",
    "    [0, 0, 0, 1, 1],\n",
    "    [0, 0, 0, 0, 1],\n",
    "    [1, 0, 1, 1, 1],\n",
    "    [1, 0, 0, 0, 0],\n",
    "    [1, 1, 1, 1, 0]\n",
    "])\n",
    "\n",
    "def find_way(maze, visited, orders, start: tuple, end: list):\n",
    "    maze_h, maze_w = maze.shape\n",
    "    if start in end:\n",
    "        return True\n",
    "    else:\n",
    "        if 0 <= start[0] < maze_w and 0 <= start[1] < maze_h and \\\n",
    "                maze[start[1], start[0]] == 0 and start not in visited:\n",
    "            visited.append(start)\n",
    "            for k, v in directions.items():\n",
    "                x = start[0] + v[0]\n",
    "                y = start[1] + v[1]\n",
    "                orders.append(k)\n",
    "                if find_way(maze, visited, orders, (x, y), end):\n",
    "                    return True \n",
    "            orders.pop()\n",
    "            return False  # 都走不通时\n",
    "        else:  # 碰到障碍物\n",
    "            orders.pop()\n",
    "            return False\n",
    "        \n",
    "start = (3, 3)\n",
    "end = [(3, 1)]\n",
    "visited = []\n",
    "orders = []\n",
    "\n",
    "find_way(maze, visited, orders, start, end), orders"
   ]
  },
  {
   "cell_type": "code",
   "execution_count": 5,
   "metadata": {},
   "outputs": [],
   "source": [
    "import numpy as np\n",
    "\n",
    "f_path = 'map1.txt'\n",
    "mymap = np.zeros((200, 200))\n",
    "LAND, SEA, OBS, ROB, BERT = 0, 1, 2, 3, 4\n",
    "mark = {\n",
    "    '.': LAND,\n",
    "    '*': SEA,\n",
    "    '#': OBS,\n",
    "    'A': ROB,\n",
    "    'B': BERT\n",
    "}\n",
    "\n",
    "with open(f_path, 'r') as f:\n",
    "    for i in range(200):  # 获取200x200地图\n",
    "        line = f.readline().strip()\n",
    "        chars = list(line)\n",
    "        for j in range(len(chars)):\n",
    "            mymap[i, j] = mark[chars[j]]"
   ]
  },
  {
   "cell_type": "code",
   "execution_count": 10,
   "metadata": {},
   "outputs": [
    {
     "data": {
      "text/plain": [
       "array([[1., 1., 1., ..., 1., 1., 1.],\n",
       "       [1., 1., 1., ..., 1., 1., 1.],\n",
       "       [1., 1., 1., ..., 1., 1., 1.],\n",
       "       ...,\n",
       "       [1., 1., 1., ..., 2., 0., 2.],\n",
       "       [1., 1., 1., ..., 2., 0., 2.],\n",
       "       [1., 1., 1., ..., 2., 2., 2.]])"
      ]
     },
     "execution_count": 10,
     "metadata": {},
     "output_type": "execute_result"
    }
   ],
   "source": [
    "mymap"
   ]
  },
  {
   "cell_type": "code",
   "execution_count": 7,
   "metadata": {},
   "outputs": [
    {
     "data": {
      "text/plain": [
       "(True,\n",
       " ['2',\n",
       "  '2',\n",
       "  '2',\n",
       "  '2',\n",
       "  '2',\n",
       "  '2',\n",
       "  '2',\n",
       "  '2',\n",
       "  '2',\n",
       "  '2',\n",
       "  '2',\n",
       "  '2',\n",
       "  '2',\n",
       "  '2',\n",
       "  '2',\n",
       "  '2',\n",
       "  '2',\n",
       "  '2',\n",
       "  '2',\n",
       "  '2',\n",
       "  '1',\n",
       "  '1',\n",
       "  '1',\n",
       "  '1',\n",
       "  '1',\n",
       "  '1',\n",
       "  '1',\n",
       "  '1',\n",
       "  '1',\n",
       "  '1',\n",
       "  '1',\n",
       "  '1',\n",
       "  '1',\n",
       "  '1',\n",
       "  '1',\n",
       "  '2',\n",
       "  '2',\n",
       "  '2',\n",
       "  '2',\n",
       "  '2',\n",
       "  '2',\n",
       "  '2',\n",
       "  '2',\n",
       "  '2'])"
      ]
     },
     "execution_count": 7,
     "metadata": {},
     "output_type": "execute_result"
    }
   ],
   "source": [
    "rob_pos = (76, 64)\n",
    "gd_pos = [(76, 50)]\n",
    "berth_pos = []\n",
    "# for x in range(61, 65):\n",
    "#     for y in range(31, 35):\n",
    "#         berth_pos.append((x, y))\n",
    "\n",
    "for x in range(61, 65):\n",
    "    for y in range(32, 36):\n",
    "        berth_pos.append((x, y))\n",
    "# len(berth_pos)\n",
    "visited = []\n",
    "orders = []\n",
    "# find_way(mymap, visited, orders, rob_pos, berth_pos), orders\n",
    "found, orders = find_way(mymap, rob_pos, berth_pos)\n",
    "found, orders"
   ]
  },
  {
   "cell_type": "code",
   "execution_count": null,
   "metadata": {},
   "outputs": [],
   "source": []
  }
 ],
 "metadata": {
  "kernelspec": {
   "display_name": "dl",
   "language": "python",
   "name": "python3"
  },
  "language_info": {
   "codemirror_mode": {
    "name": "ipython",
    "version": 3
   },
   "file_extension": ".py",
   "mimetype": "text/x-python",
   "name": "python",
   "nbconvert_exporter": "python",
   "pygments_lexer": "ipython3",
   "version": "3.7.0"
  }
 },
 "nbformat": 4,
 "nbformat_minor": 2
}
