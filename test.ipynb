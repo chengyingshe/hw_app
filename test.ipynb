{
 "cells": [
  {
   "cell_type": "code",
   "execution_count": 5,
   "metadata": {},
   "outputs": [],
   "source": [
    "with open('time.txt', 'a+') as f:\n",
    "    f.write(f'python: {100}s\\n')"
   ]
  },
  {
   "cell_type": "code",
   "execution_count": 1,
   "metadata": {},
   "outputs": [
    {
     "data": {
      "text/plain": [
       "['12', '123', '123']"
      ]
     },
     "execution_count": 1,
     "metadata": {},
     "output_type": "execute_result"
    }
   ],
   "source": [
    "'12 123 123'.split()"
   ]
  },
  {
   "cell_type": "code",
   "execution_count": 2,
   "metadata": {},
   "outputs": [
    {
     "data": {
      "text/plain": [
       "['123123312']"
      ]
     },
     "execution_count": 2,
     "metadata": {},
     "output_type": "execute_result"
    }
   ],
   "source": [
    "'123123312'.split()"
   ]
  },
  {
   "cell_type": "code",
   "execution_count": 5,
   "metadata": {},
   "outputs": [
    {
     "data": {
      "text/plain": [
       "(['a', 'b', 'c'], ['c', 'b', 'a'])"
      ]
     },
     "execution_count": 5,
     "metadata": {},
     "output_type": "execute_result"
    }
   ],
   "source": [
    "a = ['c', 'b', 'a']\n",
    "sorted(a), a"
   ]
  },
  {
   "cell_type": "code",
   "execution_count": 6,
   "metadata": {},
   "outputs": [],
   "source": [
    "import numpy as np"
   ]
  },
  {
   "cell_type": "code",
   "execution_count": 10,
   "metadata": {},
   "outputs": [
    {
     "data": {
      "text/plain": [
       "3"
      ]
     },
     "execution_count": 10,
     "metadata": {},
     "output_type": "execute_result"
    }
   ],
   "source": [
    "a = [1, 3, 5, -1]\n",
    "a.index(-1)"
   ]
  },
  {
   "cell_type": "code",
   "execution_count": 8,
   "metadata": {},
   "outputs": [
    {
     "name": "stdout",
     "output_type": "stream",
     "text": [
      "3\n"
     ]
    }
   ],
   "source": [
    "a = [[1, 3], [2, 1], [5, 4]]\n",
    "min_value = min(a, key=lambda x: x[0])[1]\n",
    "print(min_value)"
   ]
  },
  {
   "cell_type": "code",
   "execution_count": 1,
   "metadata": {},
   "outputs": [
    {
     "name": "stdout",
     "output_type": "stream",
     "text": [
      "1 (-1, 0)\n",
      "2 (0, -1)\n",
      "0 (1, 0)\n",
      "3 (0, 1)\n"
     ]
    }
   ],
   "source": [
    "directions = {\n",
    "    '1': (-1, 0), \n",
    "    '2': (0, -1), \n",
    "    '0': (1, 0), \n",
    "    '3': (0, 1)\n",
    "}\n",
    "for order, dir in directions.items():\n",
    "    print(order, dir)"
   ]
  },
  {
   "cell_type": "code",
   "execution_count": 40,
   "metadata": {},
   "outputs": [
    {
     "data": {
      "text/plain": [
       "2"
      ]
     },
     "execution_count": 40,
     "metadata": {},
     "output_type": "execute_result"
    }
   ],
   "source": [
    "maze = np.array([\n",
    "    [2, 2, 0, 1, 1],\n",
    "    [2, 2, 0, 0, 1],\n",
    "    [1, 0, 1, 0, 1],\n",
    "    [1, 0, 0, 0, 0],\n",
    "    [1, 1, 1, 1, 0]\n",
    "])\n",
    "a = (1, 1)\n",
    "maze[a]"
   ]
  },
  {
   "cell_type": "code",
   "execution_count": 54,
   "metadata": {},
   "outputs": [
    {
     "data": {
      "text/plain": [
       "(array([[2, 2, 0, 1, 1],\n",
       "        [2, 2, 0, 0, 1],\n",
       "        [1, 0, 1, 0, 1],\n",
       "        [1, 0, 0, 0, 0],\n",
       "        [1, 1, 1, 1, 0]]),\n",
       " ['2'])"
      ]
     },
     "execution_count": 54,
     "metadata": {},
     "output_type": "execute_result"
    }
   ],
   "source": [
    "# 定义迷宫地图\n",
    "maze = np.array([\n",
    "    [2, 2, 0, 1, 1],\n",
    "    [2, 2, 0, 0, 1],\n",
    "    [1, 0, 1, 0, 1],\n",
    "    [1, 0, 0, 0, 0],\n",
    "    [1, 1, 1, 1, 0]\n",
    "])\n",
    "\n",
    "# 定义移动方向数组\n",
    "\n",
    "# directions = [(-1, 0), (0, -1), (1, 0), (0, 1)]\n",
    "directions = {\n",
    "    '2': (0, -1), \n",
    "    '1': (-1, 0), \n",
    "    '3': (0, 1),\n",
    "    '0': (1, 0)\n",
    "}\n",
    "\n",
    "\n",
    "def backtrack(maze, start, end: list):\n",
    "    if start in end:\n",
    "        return []\n",
    "    maze_w, maze_h = len(maze[0]), len(maze)\n",
    "    orders = []\n",
    "    visited = set()\n",
    "    visited.add(start)\n",
    "    \n",
    "    # 循环直到找到终点或无法继续移动\n",
    "    while True:\n",
    "        # 获取当前位置的邻居节点\n",
    "        neighbors = []\n",
    "        for k, v in directions.items():\n",
    "            order = k\n",
    "            x = start[0] + v[0]\n",
    "            y = start[1] + v[1]\n",
    "            if 0 <= x < maze_w and 0 <= y < maze_h and (x, y) not in visited \\\n",
    "                                and maze[y][x] == 0 or (x, y) in end:\n",
    "                if (x, y) in end:\n",
    "                    orders.append(order)\n",
    "                    return orders\n",
    "                neighbors.append((x, y, order))\n",
    "        # 如果没有邻居节点，说明已经到达终点或无法继续移动，退出循环\n",
    "        if not neighbors:\n",
    "            break\n",
    "        \n",
    "        # 从邻居节点中选择一个未访问过的节点作为下一个节点\n",
    "        next_node = None\n",
    "        next_step = None\n",
    "        for neighbor in neighbors:\n",
    "            pos = (neighbor[0], neighbor[1])\n",
    "            order = neighbor[2]\n",
    "            if pos not in visited:\n",
    "                next_node = pos\n",
    "                next_step = order\n",
    "                break\n",
    "        \n",
    "        # 如果没有未访问过的节点，说明无法继续移动，退出循环\n",
    "        if next_node is None:\n",
    "            break\n",
    "        \n",
    "        # 将下一个节点加入路径列表和已访问节点集合\n",
    "        # path.append(next_node)\n",
    "        orders.append(next_step)\n",
    "        visited.add(next_node)\n",
    "        # 如果下一个节点是终点，说明找到了一条路径，返回路径\n",
    "        if next_node in end:\n",
    "            return orders\n",
    "        start = next_node\n",
    "    # 如果无法找到路径，返回空列表\n",
    "    return []\n",
    "\n",
    "# 定义起点和终点坐标\n",
    "start = (3, 2)\n",
    "end = [(0, 0), (1, 0), (0, 1), (1, 1), (3, 1)]\n",
    "\n",
    "result = backtrack(maze, start, end)\n",
    "maze, result\n"
   ]
  },
  {
   "cell_type": "code",
   "execution_count": 22,
   "metadata": {},
   "outputs": [
    {
     "data": {
      "text/plain": [
       "[[0, 0, 0, 1, 1],\n",
       " [0, 0, 0, 0, 1],\n",
       " [1, 0, 1, 0, 1],\n",
       " [1, 0, 0, 0, 0],\n",
       " [1, 1, 1, 1, 0]]"
      ]
     },
     "execution_count": 22,
     "metadata": {},
     "output_type": "execute_result"
    }
   ],
   "source": [
    "maze"
   ]
  },
  {
   "cell_type": "code",
   "execution_count": 15,
   "metadata": {},
   "outputs": [],
   "source": [
    "import numpy as np\n",
    "\n",
    "f_path = '../maps/map1.txt'\n",
    "mymap = np.zeros((200, 200))\n",
    "LAND, SEA, OBS, ROB, BERT = 0, 1, 2, 3, 4\n",
    "mark = {\n",
    "    '.': LAND,\n",
    "    '*': SEA,\n",
    "    '#': OBS,\n",
    "    'A': ROB,\n",
    "    'B': BERT\n",
    "}\n",
    "\n",
    "with open(f_path, 'r') as f:\n",
    "    for i in range(200):  # 获取200x200地图\n",
    "        line = f.readline().strip()\n",
    "        chars = list(line)\n",
    "        for j in range(len(chars)):\n",
    "            mymap[i, j] = mark[chars[j]]"
   ]
  },
  {
   "cell_type": "code",
   "execution_count": 51,
   "metadata": {},
   "outputs": [
    {
     "data": {
      "text/plain": [
       "array([[1., 1., 1., ..., 1., 1., 1.],\n",
       "       [1., 1., 1., ..., 1., 1., 1.],\n",
       "       [1., 1., 1., ..., 1., 1., 1.],\n",
       "       ...,\n",
       "       [1., 1., 1., ..., 2., 0., 2.],\n",
       "       [1., 1., 1., ..., 2., 0., 2.],\n",
       "       [1., 1., 1., ..., 2., 2., 2.]])"
      ]
     },
     "execution_count": 51,
     "metadata": {},
     "output_type": "execute_result"
    }
   ],
   "source": [
    "mymap"
   ]
  },
  {
   "cell_type": "code",
   "execution_count": null,
   "metadata": {},
   "outputs": [
    {
     "ename": "SyntaxError",
     "evalue": "invalid syntax (1620055363.py, line 3)",
     "output_type": "error",
     "traceback": [
      "\u001b[1;36m  File \u001b[1;32m\"F:\\Temp\\ipykernel_10420\\1620055363.py\"\u001b[1;36m, line \u001b[1;32m3\u001b[0m\n\u001b[1;33m    berth_pos = [(x, y) for x in range(61, 65) y in range(31, 35)]\u001b[0m\n\u001b[1;37m                                               ^\u001b[0m\n\u001b[1;31mSyntaxError\u001b[0m\u001b[1;31m:\u001b[0m invalid syntax\n"
     ]
    }
   ],
   "source": [
    "rob_pos = (76, 64)\n",
    "gd_pos = [(76, 50)]\n",
    "berth_pos = []\n",
    "for x in range(61, 65):\n",
    "    for y in range(31, 35):\n",
    "        berth_pos.append((x, y))\n",
    "# backtrack(mymap, rob_pos, gd_pos)\n",
    "berth_pos"
   ]
  }
 ],
 "metadata": {
  "kernelspec": {
   "display_name": "dl",
   "language": "python",
   "name": "python3"
  },
  "language_info": {
   "codemirror_mode": {
    "name": "ipython",
    "version": 3
   },
   "file_extension": ".py",
   "mimetype": "text/x-python",
   "name": "python",
   "nbconvert_exporter": "python",
   "pygments_lexer": "ipython3",
   "version": "3.7.0"
  }
 },
 "nbformat": 4,
 "nbformat_minor": 2
}
