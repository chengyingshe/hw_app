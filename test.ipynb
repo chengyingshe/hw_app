{
 "cells": [
  {
   "cell_type": "code",
   "execution_count": 18,
   "metadata": {},
   "outputs": [],
   "source": [
    "import numpy as np\n",
    "\n",
    "# 定义迷宫地图\n",
    "maze = np.array([\n",
    "    [0, 0, 0, 1, 1],\n",
    "    [0, 0, 0, 0, 1],\n",
    "    [1, 0, 1, 0, 1],\n",
    "    [1, 0, 0, 0, 0],\n",
    "    [1, 1, 1, 1, 0]\n",
    "])\n",
    "\n",
    "# 定义移动方向数组\n",
    "\n",
    "# directions = [(-1, 0), (0, -1), (1, 0), (0, 1)]\n",
    "directions = {\n",
    "    '2': (0, -1), \n",
    "    '1': (-1, 0), \n",
    "    '3': (0, 1),\n",
    "    '0': (1, 0)\n",
    "}"
   ]
  },
  {
   "cell_type": "code",
   "execution_count": 19,
   "metadata": {},
   "outputs": [
    {
     "data": {
      "text/plain": [
       "(True, ['1', '1', '2', '2', '2', '0', '3', '0'])"
      ]
     },
     "execution_count": 19,
     "metadata": {},
     "output_type": "execute_result"
    }
   ],
   "source": [
    "import numpy as np\n",
    "\n",
    "maze = np.array([\n",
    "    [0, 0, 0, 1, 1],\n",
    "    [0, 0, 0, 0, 1],\n",
    "    [1, 0, 1, 1, 1],\n",
    "    [1, 0, 0, 0, 0],\n",
    "    [1, 1, 1, 1, 0]\n",
    "])\n",
    "def find_way(maze, start, end):\n",
    "    \"\"\"迷宫回溯算法（非递归），返回值是完整的指令集合\"\"\"\n",
    "    maze_h, maze_w = maze.shape\n",
    "    \n",
    "    visited = []\n",
    "    orders = []\n",
    "    \n",
    "    stack = [(start, iter(directions.items()))]\n",
    "    \n",
    "    while stack:\n",
    "        current, directions_iter = stack[-1]\n",
    "        try:\n",
    "            direction, (dx, dy) = next(directions_iter)\n",
    "        except StopIteration:\n",
    "            stack.pop()\n",
    "            visited.pop()\n",
    "            orders.pop()\n",
    "            continue\n",
    "        \n",
    "        x, y = current[0] + dx, current[1] + dy\n",
    "        \n",
    "        if (x, y) in end:\n",
    "            orders.append(direction)\n",
    "            return True, orders\n",
    "        \n",
    "        if 0 <= x < maze_w and 0 <= y < maze_h and maze[y, x] == 0 and (x, y) not in visited:\n",
    "            stack.append(((x, y), iter(directions.items())))\n",
    "            visited.append((x, y))\n",
    "            orders.append(direction)\n",
    "    \n",
    "    return False, []\n",
    "\n",
    "start = (3, 3)\n",
    "end = [(3, 1)]\n",
    "\n",
    "find_way(maze, start, end)"
   ]
  },
  {
   "cell_type": "code",
   "execution_count": 1,
   "metadata": {},
   "outputs": [
    {
     "data": {
      "text/plain": [
       "(<RobState.UNREACHED: -1>, ('1', ['1'], [(2, 3)]))"
      ]
     },
     "execution_count": 1,
     "metadata": {},
     "output_type": "execute_result"
    }
   ],
   "source": [
    "import numpy as np\n",
    "from enum import Enum\n",
    "\n",
    "maze = np.array([\n",
    "    [0, 0, 0, 1, 1],\n",
    "    [0, 0, 0, 0, 1],\n",
    "    [1, 0, 1, 1, 1],\n",
    "    [1, 0, 0, 0, 0],\n",
    "    [1, 1, 1, 1, 0]\n",
    "])\n",
    "directions= {  # 机器人移动方向\n",
    "    '2': (0, -1), \n",
    "    '1': (-1, 0), \n",
    "    '3': (0, 1),\n",
    "    '0': (1, 0)\n",
    "}\n",
    "\n",
    "class RobState(Enum):\n",
    "    UNREACHED = -1\n",
    "    BORN_REACHED = 0\n",
    "    REACHED = 1\n",
    "\n",
    "def find_way(maze, start,\n",
    "                end: list,  # 终点坐标集合\n",
    "                routes: list = [0],  # 机器人可以走的格子\n",
    "                orders: list = [],\n",
    "                visited: list = [],\n",
    "            ) -> [int, str]: # type: ignore\n",
    "                # int:-1->机器人未到达终点，0->机器人初始位置就在终点，1->机器人下一步到达终点\n",
    "    \"\"\"迷宫回溯算法（非递归），返回值是单步指令和状态数组\"\"\"\n",
    "    maze_h, maze_w = maze.shape\n",
    "    if start in end: return RobState.BORN_REACHED, ('')  # 当机器人起始位置有货物生成时\n",
    "    for order in orders:\n",
    "        start = (start[0] + directions[order][0], start[1] + directions[order][1])\n",
    "\n",
    "    stack = [(start, iter(directions.items()))]\n",
    "    \n",
    "    while stack:\n",
    "        current, directions_iter = stack[-1]\n",
    "        try:\n",
    "            direction, (dx, dy) = next(directions_iter)\n",
    "        except StopIteration:  # 4个方向都走过了，都不满足\n",
    "            stack.pop()\n",
    "            direction = orders.pop()\n",
    "            anti_dir = {'0': '1', '1': '0', '2': '3', '3': '2'}\n",
    "            direction = anti_dir[direction]\n",
    "            return RobState.UNREACHED, (direction, orders, visited)\n",
    "\n",
    "        x, y = current[0] + dx, current[1] + dy\n",
    "        \n",
    "        if (x, y) in end:\n",
    "            # orders.append(direction)\n",
    "            return RobState.REACHED, (direction)\n",
    "        \n",
    "        if 0 <= x < maze_w and 0 <= y < maze_h and maze[y, x] in routes and (x, y) not in visited:\n",
    "            stack.append(((x, y), iter(directions.items())))\n",
    "            visited.append((x, y))\n",
    "            orders.append(direction)\n",
    "            return RobState.UNREACHED, (direction, orders, visited)\n",
    "\n",
    "\n",
    "start = (3, 3)\n",
    "end = [(3, 1)]\n",
    "ending, args = find_way(maze, start, end)\n",
    "ending, args"
   ]
  },
  {
   "cell_type": "code",
   "execution_count": 8,
   "metadata": {},
   "outputs": [
    {
     "data": {
      "text/plain": [
       "(<RobState.UNREACHED: -1>,\n",
       " ('2',\n",
       "  ['1', '1', '2', '2', '2', '1'],\n",
       "  [(2, 3), (1, 3), (1, 2), (1, 1), (1, 0), (0, 0), (0, 1)]))"
      ]
     },
     "execution_count": 8,
     "metadata": {},
     "output_type": "execute_result"
    }
   ],
   "source": [
    "ending, args = find_way(maze, start, end, [0], *args[1:])\n",
    "ending, args"
   ]
  },
  {
   "cell_type": "code",
   "execution_count": 10,
   "metadata": {},
   "outputs": [
    {
     "data": {
      "text/plain": [
       "(True, ['1', '1', '2', '2', '2', '0', '3', '0'])"
      ]
     },
     "execution_count": 10,
     "metadata": {},
     "output_type": "execute_result"
    }
   ],
   "source": [
    "maze = np.array([\n",
    "    [0, 0, 0, 1, 1],\n",
    "    [0, 0, 0, 0, 1],\n",
    "    [1, 0, 1, 1, 1],\n",
    "    [1, 0, 0, 0, 0],\n",
    "    [1, 1, 1, 1, 0]\n",
    "])\n",
    "\n",
    "def find_way(maze, visited, orders, start: tuple, end: list):\n",
    "    \"\"\"迷宫回溯算法（递归），返回值是完整的指令集合\"\"\"\n",
    "    maze_h, maze_w = maze.shape\n",
    "    if start in end:\n",
    "        return True\n",
    "    else:\n",
    "        if 0 <= start[0] < maze_w and 0 <= start[1] < maze_h and \\\n",
    "                maze[start[1], start[0]] == 0 and start not in visited:\n",
    "            visited.append(start)\n",
    "            for k, v in directions.items():\n",
    "                x = start[0] + v[0]\n",
    "                y = start[1] + v[1]\n",
    "                orders.append(k)\n",
    "                if find_way(maze, visited, orders, (x, y), end):\n",
    "                    return True \n",
    "            orders.pop()\n",
    "            return False  # 都走不通时\n",
    "        else:  # 碰到障碍物\n",
    "            orders.pop()\n",
    "            return False\n",
    "        \n",
    "start = (3, 3)\n",
    "end = [(3, 1)]\n",
    "visited = []\n",
    "orders = []\n",
    "\n",
    "find_way(maze, visited, orders, start, end), orders"
   ]
  },
  {
   "cell_type": "code",
   "execution_count": 14,
   "metadata": {},
   "outputs": [],
   "source": [
    "import numpy as np\n",
    "\n",
    "f_path = 'map1.txt'\n",
    "mymap = np.zeros((200, 200))\n",
    "LAND, SEA, OBS, ROB, BERT = 0, 1, 2, 3, 4\n",
    "mark = {\n",
    "    '.': LAND,\n",
    "    '*': SEA,\n",
    "    '#': OBS,\n",
    "    'A': ROB,\n",
    "    'B': BERT\n",
    "}\n",
    "\n",
    "with open(f_path, 'r') as f:\n",
    "    for i in range(200):  # 获取200x200地图\n",
    "        line = f.readline().strip()\n",
    "        chars = list(line)\n",
    "        for j in range(len(chars)):\n",
    "            mymap[i, j] = mark[chars[j]]"
   ]
  },
  {
   "cell_type": "code",
   "execution_count": 15,
   "metadata": {},
   "outputs": [
    {
     "data": {
      "text/plain": [
       "array([[1., 1., 1., ..., 1., 1., 1.],\n",
       "       [1., 1., 1., ..., 1., 1., 1.],\n",
       "       [1., 1., 1., ..., 1., 1., 1.],\n",
       "       ...,\n",
       "       [1., 1., 1., ..., 2., 0., 2.],\n",
       "       [1., 1., 1., ..., 2., 0., 2.],\n",
       "       [1., 1., 1., ..., 2., 2., 2.]])"
      ]
     },
     "execution_count": 15,
     "metadata": {},
     "output_type": "execute_result"
    }
   ],
   "source": [
    "mymap"
   ]
  },
  {
   "cell_type": "code",
   "execution_count": 7,
   "metadata": {},
   "outputs": [
    {
     "data": {
      "text/plain": [
       "(True,\n",
       " ['2',\n",
       "  '2',\n",
       "  '2',\n",
       "  '2',\n",
       "  '2',\n",
       "  '2',\n",
       "  '2',\n",
       "  '2',\n",
       "  '2',\n",
       "  '2',\n",
       "  '2',\n",
       "  '2',\n",
       "  '2',\n",
       "  '2',\n",
       "  '2',\n",
       "  '2',\n",
       "  '2',\n",
       "  '2',\n",
       "  '2',\n",
       "  '2',\n",
       "  '1',\n",
       "  '1',\n",
       "  '1',\n",
       "  '1',\n",
       "  '1',\n",
       "  '1',\n",
       "  '1',\n",
       "  '1',\n",
       "  '1',\n",
       "  '1',\n",
       "  '1',\n",
       "  '1',\n",
       "  '1',\n",
       "  '1',\n",
       "  '1',\n",
       "  '2',\n",
       "  '2',\n",
       "  '2',\n",
       "  '2',\n",
       "  '2',\n",
       "  '2',\n",
       "  '2',\n",
       "  '2',\n",
       "  '2'])"
      ]
     },
     "execution_count": 7,
     "metadata": {},
     "output_type": "execute_result"
    }
   ],
   "source": [
    "rob_pos = (76, 64)\n",
    "gd_pos = [(76, 50)]\n",
    "berth_pos = []\n",
    "# for x in range(61, 65):\n",
    "#     for y in range(31, 35):\n",
    "#         berth_pos.append((x, y))\n",
    "\n",
    "for x in range(61, 65):\n",
    "    for y in range(32, 36):\n",
    "        berth_pos.append((x, y))\n",
    "# len(berth_pos)\n",
    "visited = []\n",
    "orders = []\n",
    "# find_way(mymap, visited, orders, rob_pos, berth_pos), orders\n",
    "found, orders = find_way(mymap, rob_pos, berth_pos)\n",
    "found, orders"
   ]
  },
  {
   "cell_type": "code",
   "execution_count": 25,
   "metadata": {},
   "outputs": [
    {
     "ename": "ValueError",
     "evalue": "Wrong order!",
     "output_type": "error",
     "traceback": [
      "\u001b[1;31m---------------------------------------------------------------------------\u001b[0m",
      "\u001b[1;31mValueError\u001b[0m                                Traceback (most recent call last)",
      "\u001b[1;32mF:\\Temp\\ipykernel_11168\\2106038314.py\u001b[0m in \u001b[0;36m<module>\u001b[1;34m\u001b[0m\n\u001b[0;32m     22\u001b[0m     \u001b[1;32mraise\u001b[0m \u001b[0mValueError\u001b[0m\u001b[1;33m(\u001b[0m\u001b[1;34m'Wrong order!'\u001b[0m\u001b[1;33m)\u001b[0m\u001b[1;33m\u001b[0m\u001b[0m\n\u001b[0;32m     23\u001b[0m \u001b[1;33m\u001b[0m\u001b[0m\n\u001b[1;32m---> 24\u001b[1;33m \u001b[0mdecode_and_append_order\u001b[0m\u001b[1;33m(\u001b[0m\u001b[1;34m''\u001b[0m\u001b[1;33m,\u001b[0m \u001b[1;34m'r0 move4'\u001b[0m\u001b[1;33m)\u001b[0m\u001b[1;33m\u001b[0m\u001b[0m\n\u001b[0m",
      "\u001b[1;32mF:\\Temp\\ipykernel_11168\\2106038314.py\u001b[0m in \u001b[0;36mdecode_and_append_order\u001b[1;34m(orders, n_order)\u001b[0m\n\u001b[0;32m     20\u001b[0m         \u001b[1;32melif\u001b[0m \u001b[0mre\u001b[0m\u001b[1;33m.\u001b[0m\u001b[0mmatch\u001b[0m\u001b[1;33m(\u001b[0m\u001b[1;34mr'g\\d'\u001b[0m\u001b[1;33m,\u001b[0m \u001b[0ml\u001b[0m\u001b[1;33m[\u001b[0m\u001b[1;36m1\u001b[0m\u001b[1;33m]\u001b[0m\u001b[1;33m)\u001b[0m\u001b[1;33m:\u001b[0m\u001b[1;33m\u001b[0m\u001b[0m\n\u001b[0;32m     21\u001b[0m             \u001b[1;32mreturn\u001b[0m \u001b[0morders\u001b[0m \u001b[1;33m+\u001b[0m \u001b[1;34mf'ship {id} {int(l[1][1])}\\n'\u001b[0m\u001b[1;33m\u001b[0m\u001b[0m\n\u001b[1;32m---> 22\u001b[1;33m     \u001b[1;32mraise\u001b[0m \u001b[0mValueError\u001b[0m\u001b[1;33m(\u001b[0m\u001b[1;34m'Wrong order!'\u001b[0m\u001b[1;33m)\u001b[0m\u001b[1;33m\u001b[0m\u001b[0m\n\u001b[0m\u001b[0;32m     23\u001b[0m \u001b[1;33m\u001b[0m\u001b[0m\n\u001b[0;32m     24\u001b[0m \u001b[0mdecode_and_append_order\u001b[0m\u001b[1;33m(\u001b[0m\u001b[1;34m''\u001b[0m\u001b[1;33m,\u001b[0m \u001b[1;34m'r0 move4'\u001b[0m\u001b[1;33m)\u001b[0m\u001b[1;33m\u001b[0m\u001b[0m\n",
      "\u001b[1;31mValueError\u001b[0m: Wrong order!"
     ]
    }
   ],
   "source": [
    "import re\n",
    "\n",
    "def decode_and_append_order(orders: str, \n",
    "                            n_order: str):\n",
    "    \"\"\"\n",
    "    向指令字符串中解析新的指令并添加其中\n",
    "    `n_order`: r0 move[0-3], r0 get, r0 pull, s0 g(0)\n",
    "    \"\"\"\n",
    "    assert re.match(r'[rs]\\d\\s\\w+', n_order), 'Wrong order!'\n",
    "    l = n_order.split(' ')\n",
    "    id = int(n_order[1])\n",
    "    if n_order[0] == 'r':\n",
    "        if l[1] in ['get', 'pull']:\n",
    "            return orders + f'{l[1]} {id}\\n'\n",
    "        elif re.match(r'move[0-3]', l[1]):\n",
    "            return orders + f'move {id} {l[1][4]}\\n'\n",
    "    elif n_order[0] == 's':\n",
    "        if l[1] == 'g':\n",
    "            return orders + f'go {id}\\n'  # 船去虚拟点\n",
    "        elif re.match(r'g\\d', l[1]):\n",
    "            return orders + f'ship {id} {int(l[1][1])}\\n'\n",
    "    raise ValueError('Wrong order!')\n",
    "\n",
    "decode_and_append_order('', 'r0 move3')"
   ]
  },
  {
   "cell_type": "code",
   "execution_count": null,
   "metadata": {},
   "outputs": [],
   "source": [
    "import numpy as np\n",
    "import heapq\n",
    "\n",
    "# 初始化地图\n",
    "f_path = 'map1.txt' # 请根据实际路径修改\n",
    "mymap = np.zeros((200, 200))\n",
    "LAND, SEA, OBS, ROB, BERT = 0, 1, 2, 3, 4\n",
    "mark = {\n",
    "  '.': LAND,\n",
    "  '*': SEA,\n",
    "  '#': OBS,\n",
    "  'A': ROB,\n",
    "  'B': BERT\n",
    "}\n",
    "\n",
    "with open(f_path, 'r') as f:\n",
    "  for i in range(200): # 获取200x200地图\n",
    "    line = f.readline().strip()\n",
    "    chars = list(line)\n",
    "    for j in range(len(chars)):\n",
    "      mymap[i, j] = mark[chars[j]]\n",
    "\n",
    "# 机器人和货物的位置\n",
    "rob_pos = np.array([108, 74])\n",
    "gd_pos = np.array([104, 37])\n",
    "directions = {\n",
    "  '2': np.array([0, -1]), \n",
    "  '1': np.array([-1, 0]), \n",
    "  '3': np.array([0, 1]),\n",
    "  '0': np.array([1, 0])\n",
    "}\n",
    "\n",
    "def heuristic(a, b):\n",
    "  \"\"\"\n",
    "  启发式函数 - 曼哈顿距离\n",
    "  \"\"\"\n",
    "  return abs(a[0] - b[0]) + abs(a[1] - b[1])\n",
    "\n",
    "def a_star(start, goal, map, directions):\n",
    "  open_set = []\n",
    "  heapq.heappush(open_set, (0 + heuristic(tuple(start), tuple(goal)), 0, tuple(start)))\n",
    "  came_from = {}\n",
    "  g_score = {tuple(start): 0}\n",
    "  f_score = {tuple(start): heuristic(tuple(start), tuple(goal))}\n",
    "\n",
    "  while open_set:\n",
    "    current = heapq.heappop(open_set)[2]\n",
    "    if current == tuple(goal):\n",
    "      return reconstruct_path(came_from, current)\n",
    "\n",
    "    for direction_value in directions.values():\n",
    "      neighbor = np.array(current) + direction_value\n",
    "      if 0 <= neighbor[0] < 200 and 0 <= neighbor[1] < 200 and map[tuple(neighbor)] != OBS:\n",
    "        tentative_g_score = g_score[current] + 1\n",
    "\n",
    "        if tuple(neighbor) not in g_score or tentative_g_score < g_score[tuple(neighbor)]:\n",
    "          came_from[tuple(neighbor)] = current\n",
    "          g_score[tuple(neighbor)] = tentative_g_score\n",
    "          f_score[tuple(neighbor)] = g_score[tuple(neighbor)] + heuristic(tuple(neighbor), tuple(goal))\n",
    "          if tuple(neighbor) not in [i[2] for i in open_set]:\n",
    "            heapq.heappush(open_set, (f_score[tuple(neighbor)], tentative_g_score, tuple(neighbor)))\n",
    "\n",
    "  return []\n",
    "\n",
    "# 路径重建\n",
    "def reconstruct_path(came_from, current):\n",
    "    total_path = [current]\n",
    "    while current in came_from:\n",
    "        current = came_from[current]\n",
    "        total_path.append(current)\n",
    "    return total_path[::-1]"
   ]
  },
  {
   "cell_type": "code",
   "execution_count": 24,
   "metadata": {},
   "outputs": [
    {
     "name": "stdout",
     "output_type": "stream",
     "text": [
      "Finished!\n"
     ]
    }
   ],
   "source": [
    "import random\n",
    "\n",
    "\n",
    "def generate_goods(mymap, n_goods):\n",
    "    # 找到所有标记为 LAND 的位置\n",
    "    free_positions = [[i, j] for i in range(200) for j in range(200) if mymap[j, i] == LAND]\n",
    "    if len(free_positions) < n_goods:\n",
    "        raise ValueError(\"Not enough LAND positions for the number of goods\")\n",
    "\n",
    "    # 从这些位置中随机选择 n_goods 个位置放置货物\n",
    "    goods = random.sample(free_positions, n_goods)\n",
    "    for good in goods:\n",
    "        good.append(random.randint(0, 1000))\n",
    "    for gd in goods:\n",
    "        mymap[gd[1], gd[0]] = BERT  # 更新地图，将选中的位置标记为货物（BERT）\n",
    "    return np.array(goods)\n",
    "\n",
    "def generate_one_frame(mymap, frame_id):\n",
    "    str_l = []\n",
    "    str_l.append(str(frame_id))\n",
    "    n_goods = random.randint(1, 10)  # 随机选择1到10个货物\n",
    "    str_l.append(str(n_goods))\n",
    "    goods = generate_goods(mymap, n_goods)\n",
    "    for good in goods:\n",
    "        str_l.append(' '.join(good.astype('str')))\n",
    "    return str_l\n",
    "\n",
    "with open('input.txt', 'w+') as f:\n",
    "    for i in range(1000):\n",
    "        str_l = generate_one_frame(mymap, i)\n",
    "        for line in str_l:\n",
    "            f.write(f'{line}\\n')\n",
    "            \n",
    "print('Finished!')"
   ]
  }
 ],
 "metadata": {
  "kernelspec": {
   "display_name": "dl",
   "language": "python",
   "name": "python3"
  },
  "language_info": {
   "codemirror_mode": {
    "name": "ipython",
    "version": 3
   },
   "file_extension": ".py",
   "mimetype": "text/x-python",
   "name": "python",
   "nbconvert_exporter": "python",
   "pygments_lexer": "ipython3",
   "version": "3.7.0"
  }
 },
 "nbformat": 4,
 "nbformat_minor": 2
}
