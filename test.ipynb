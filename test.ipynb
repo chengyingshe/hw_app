{
 "cells": [
  {
   "cell_type": "code",
   "execution_count": 1,
   "metadata": {},
   "outputs": [
    {
     "data": {
      "text/plain": [
       "['12', '123', '123']"
      ]
     },
     "execution_count": 1,
     "metadata": {},
     "output_type": "execute_result"
    }
   ],
   "source": [
    "'12 123 123'.split()"
   ]
  },
  {
   "cell_type": "code",
   "execution_count": 2,
   "metadata": {},
   "outputs": [
    {
     "data": {
      "text/plain": [
       "['123123312']"
      ]
     },
     "execution_count": 2,
     "metadata": {},
     "output_type": "execute_result"
    }
   ],
   "source": [
    "'123123312'.split()"
   ]
  },
  {
   "cell_type": "code",
   "execution_count": 2,
   "metadata": {},
   "outputs": [],
   "source": [
    "import numpy as np\n",
    "\n",
    "# 定义迷宫地图\n",
    "maze = np.array([\n",
    "    [0, 0, 0, 1, 1],\n",
    "    [0, 0, 0, 0, 1],\n",
    "    [1, 0, 1, 0, 1],\n",
    "    [1, 0, 0, 0, 0],\n",
    "    [1, 1, 1, 1, 0]\n",
    "])\n",
    "\n",
    "# 定义移动方向数组\n",
    "\n",
    "# directions = [(-1, 0), (0, -1), (1, 0), (0, 1)]\n",
    "directions = {\n",
    "    '2': (0, -1), \n",
    "    '1': (-1, 0), \n",
    "    '3': (0, 1),\n",
    "    '0': (1, 0)\n",
    "}"
   ]
  },
  {
   "cell_type": "code",
   "execution_count": 2,
   "metadata": {},
   "outputs": [
    {
     "data": {
      "text/plain": [
       "(array([[0, 0, 0, 1, 1],\n",
       "        [0, 0, 0, 0, 1],\n",
       "        [1, 0, 1, 0, 1],\n",
       "        [1, 0, 0, 0, 0],\n",
       "        [1, 1, 1, 1, 0]]),\n",
       " ['2'])"
      ]
     },
     "execution_count": 2,
     "metadata": {},
     "output_type": "execute_result"
    }
   ],
   "source": [
    "def backtrack(maze, start, end: list):  # 迷宫回溯算法（非递归）\n",
    "    if start in end:\n",
    "        return []\n",
    "    maze_w, maze_h = len(maze[0]), len(maze)\n",
    "    orders = []\n",
    "    visited = set()\n",
    "    visited.add(start)\n",
    "    \n",
    "    # 循环直到找到终点或无法继续移动\n",
    "    while True:\n",
    "        # 获取当前位置的邻居节点\n",
    "        neighbors = []\n",
    "        for k, v in directions.items():\n",
    "            order = k\n",
    "            x = start[0] + v[0]\n",
    "            y = start[1] + v[1]\n",
    "            if 0 <= x < maze_w and 0 <= y < maze_h and (x, y) not in visited \\\n",
    "                                and maze[y][x] == 0 or (x, y) in end:\n",
    "                if (x, y) in end:\n",
    "                    orders.append(order)\n",
    "                    return orders\n",
    "                neighbors.append((x, y, order))\n",
    "        # 如果没有邻居节点，说明已经到达终点或无法继续移动，退出循环\n",
    "        if not neighbors:\n",
    "            break\n",
    "        \n",
    "        # 从邻居节点中选择一个未访问过的节点作为下一个节点\n",
    "        next_node = None\n",
    "        next_step = None\n",
    "        # for neighbor in neighbors:\n",
    "        while len(neighbors) > 0:\n",
    "            neighbor = neighbors[0]\n",
    "            neighbors.remove(neighbor)\n",
    "            pos = (neighbor[0], neighbor[1])\n",
    "            order = neighbor[2]\n",
    "            if pos not in visited:\n",
    "                next_node = pos\n",
    "                next_step = order\n",
    "                break\n",
    "        \n",
    "        # 如果没有未访问过的节点，说明无法继续移动，退出循环\n",
    "        if next_node is None:\n",
    "            break\n",
    "        \n",
    "        # 将下一个节点加入路径列表和已访问节点集合\n",
    "        # path.append(next_node)\n",
    "        orders.append(next_step)\n",
    "        visited.add(next_node)\n",
    "        # 如果下一个节点是终点，说明找到了一条路径，返回路径\n",
    "        if next_node in end:\n",
    "            return orders\n",
    "        start = next_node\n",
    "    # 如果无法找到路径，返回空列表\n",
    "    return []\n",
    "\n",
    "# 定义起点和终点坐标\n",
    "start = (3, 2)\n",
    "end = [(0, 0), (1, 0), (0, 1), (1, 1), (3, 1)]\n",
    "\n",
    "result = backtrack(maze, start, end)\n",
    "maze, result\n"
   ]
  },
  {
   "cell_type": "code",
   "execution_count": 3,
   "metadata": {},
   "outputs": [
    {
     "data": {
      "text/plain": [
       "(True, ['1', '1', '2', '2'])"
      ]
     },
     "execution_count": 3,
     "metadata": {},
     "output_type": "execute_result"
    }
   ],
   "source": [
    "maze = np.array([\n",
    "    [0, 0, 0, 1, 1],\n",
    "    [0, 0, 0, 0, 1],\n",
    "    [1, 0, 1, 1, 1],\n",
    "    [1, 0, 0, 0, 0],\n",
    "    [1, 1, 1, 1, 0]\n",
    "])\n",
    "\n",
    "def find_way(maze, visited, orders, start: tuple, end: list):\n",
    "    maze_h, maze_w = maze.shape\n",
    "    if start in end:\n",
    "        return True\n",
    "    else:\n",
    "        if 0 <= start[0] < maze_w and 0 <= start[1] < maze_h and \\\n",
    "                maze[start[1], start[0]] == 0 and start not in visited:\n",
    "            visited.append(start)\n",
    "            for k, v in directions.items():\n",
    "                x = start[0] + v[0]\n",
    "                y = start[1] + v[1]\n",
    "                orders.append(k)\n",
    "                if find_way(maze, visited, orders, (x, y), end):\n",
    "                    return True \n",
    "            orders.pop()\n",
    "            return False  # 都走不通时\n",
    "        else:  # 碰到障碍物\n",
    "            orders.pop()\n",
    "            return False\n",
    "        \n",
    "start = (3, 3)\n",
    "end = [(1, 1)]\n",
    "visited = []\n",
    "orders = []\n",
    "\n",
    "find_way(maze, visited, orders, start, end), orders"
   ]
  },
  {
   "cell_type": "code",
   "execution_count": 4,
   "metadata": {},
   "outputs": [],
   "source": [
    "import numpy as np\n",
    "\n",
    "f_path = 'map1.txt'\n",
    "mymap = np.zeros((200, 200))\n",
    "LAND, SEA, OBS, ROB, BERT = 0, 1, 2, 3, 4\n",
    "mark = {\n",
    "    '.': LAND,\n",
    "    '*': SEA,\n",
    "    '#': OBS,\n",
    "    'A': ROB,\n",
    "    'B': BERT\n",
    "}\n",
    "\n",
    "with open(f_path, 'r') as f:\n",
    "    for i in range(200):  # 获取200x200地图\n",
    "        line = f.readline().strip()\n",
    "        chars = list(line)\n",
    "        for j in range(len(chars)):\n",
    "            mymap[i, j] = mark[chars[j]]"
   ]
  },
  {
   "cell_type": "code",
   "execution_count": 5,
   "metadata": {},
   "outputs": [
    {
     "data": {
      "text/plain": [
       "array([[1., 1., 1., ..., 1., 1., 1.],\n",
       "       [1., 1., 1., ..., 1., 1., 1.],\n",
       "       [1., 1., 1., ..., 1., 1., 1.],\n",
       "       ...,\n",
       "       [1., 1., 1., ..., 2., 0., 2.],\n",
       "       [1., 1., 1., ..., 2., 0., 2.],\n",
       "       [1., 1., 1., ..., 2., 2., 2.]])"
      ]
     },
     "execution_count": 5,
     "metadata": {},
     "output_type": "execute_result"
    }
   ],
   "source": [
    "mymap"
   ]
  },
  {
   "cell_type": "code",
   "execution_count": 7,
   "metadata": {},
   "outputs": [
    {
     "data": {
      "text/plain": [
       "(True,\n",
       " ['2',\n",
       "  '2',\n",
       "  '2',\n",
       "  '2',\n",
       "  '2',\n",
       "  '2',\n",
       "  '2',\n",
       "  '2',\n",
       "  '2',\n",
       "  '2',\n",
       "  '2',\n",
       "  '2',\n",
       "  '2',\n",
       "  '2',\n",
       "  '2',\n",
       "  '2',\n",
       "  '2',\n",
       "  '2',\n",
       "  '2',\n",
       "  '2',\n",
       "  '1',\n",
       "  '1',\n",
       "  '1',\n",
       "  '1',\n",
       "  '1',\n",
       "  '1',\n",
       "  '1',\n",
       "  '1',\n",
       "  '1',\n",
       "  '1',\n",
       "  '1',\n",
       "  '1',\n",
       "  '1',\n",
       "  '1',\n",
       "  '1',\n",
       "  '2',\n",
       "  '2',\n",
       "  '2',\n",
       "  '2',\n",
       "  '2',\n",
       "  '2',\n",
       "  '2',\n",
       "  '2',\n",
       "  '2'])"
      ]
     },
     "execution_count": 7,
     "metadata": {},
     "output_type": "execute_result"
    }
   ],
   "source": [
    "rob_pos = (76, 64)\n",
    "gd_pos = [(76, 50)]\n",
    "berth_pos = []\n",
    "# for x in range(61, 65):\n",
    "#     for y in range(31, 35):\n",
    "#         berth_pos.append((x, y))\n",
    "\n",
    "for x in range(61, 65):\n",
    "    for y in range(32, 36):\n",
    "        berth_pos.append((x, y))\n",
    "# len(berth_pos)\n",
    "visited = []\n",
    "orders = []\n",
    "find_way(mymap, visited, orders, rob_pos, berth_pos), orders"
   ]
  },
  {
   "cell_type": "code",
   "execution_count": null,
   "metadata": {},
   "outputs": [],
   "source": []
  }
 ],
 "metadata": {
  "kernelspec": {
   "display_name": "dl",
   "language": "python",
   "name": "python3"
  },
  "language_info": {
   "codemirror_mode": {
    "name": "ipython",
    "version": 3
   },
   "file_extension": ".py",
   "mimetype": "text/x-python",
   "name": "python",
   "nbconvert_exporter": "python",
   "pygments_lexer": "ipython3",
   "version": "3.7.0"
  }
 },
 "nbformat": 4,
 "nbformat_minor": 2
}
